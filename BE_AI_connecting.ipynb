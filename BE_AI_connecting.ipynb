{
  "nbformat": 4,
  "nbformat_minor": 0,
  "metadata": {
    "colab": {
      "provenance": [],
      "authorship_tag": "ABX9TyOhEzZ75XDTMt6/rZ2sXTFZ",
      "include_colab_link": true
    },
    "kernelspec": {
      "name": "python3",
      "display_name": "Python 3"
    },
    "language_info": {
      "name": "python"
    }
  },
  "cells": [
    {
      "cell_type": "markdown",
      "metadata": {
        "id": "view-in-github",
        "colab_type": "text"
      },
      "source": [
        "<a href=\"https://colab.research.google.com/github/chaerin314/Project-easy-selling-clothes-web/blob/main/BE_AI_connecting.ipynb\" target=\"_parent\"><img src=\"https://colab.research.google.com/assets/colab-badge.svg\" alt=\"Open In Colab\"/></a>"
      ]
    },
    {
      "cell_type": "code",
      "execution_count": null,
      "metadata": {
        "id": "-6sD2pZWhU69"
      },
      "outputs": [],
      "source": [
        "import io\n",
        "import matplotlib.pyplot as plt\n",
        "import matplotlib.image as mpimg\n",
        "import pandas as pd\n",
        "import pymysql as MariaDB\n",
        "%matplotlib inline\n",
        "\n",
        "conn = MariaDB.connect( host = '127.0.0.1'\n",
        ", port = 3306\n",
        ", user = 'mdb'\n",
        ", passwd = 'letmein'\n",
        ", db = 'ml'\n",
        ", charset = 'utf8')\n",
        "\n",
        "cur = conn.cursor()"
      ]
    },
    {
      "cell_type": "code",
      "source": [
        "sql=\"SELECT use_name AS 'Image Role'\n",
        "          , use_desc AS 'Description'\n",
        "     FROM img_use\"\n",
        "display( pd.read_sql(sql,conn) )"
      ],
      "metadata": {
        "id": "4OFxEQ0uhbY2"
      },
      "execution_count": null,
      "outputs": []
    },
    {
      "cell_type": "code",
      "source": [
        "sql=\"SELECT class_name AS 'Class Name' FROM categories\"\n",
        "display( pd.read_sql(sql,conn) )"
      ],
      "metadata": {
        "id": "EgqWHyaNhb6Q"
      },
      "execution_count": null,
      "outputs": []
    },
    {
      "cell_type": "code",
      "source": [
        "sql=\"SELECT cn.class_name AS 'Class Name'\n",
        "          , iu.use_name AS 'Image Use'\n",
        "          , img_vector AS 'Vector Representation'\n",
        "          , img_blob AS 'Image PNG'\n",
        "     FROM tf_images AS ti\n",
        "          INNER JOIN categories AS cn ON ti.img_label = cn.class_idx\n",
        "          INNER JOIN img_use AS iu ON ti.img_use  = iu.use_id\n",
        "     LIMIT 5\"\n",
        "display( pd.read_sql(sql,conn) )"
      ],
      "metadata": {
        "id": "Hu0G22zGhdpi"
      },
      "execution_count": null,
      "outputs": []
    },
    {
      "cell_type": "code",
      "source": [
        "sql=\"SELECT class_name AS 'Image Label' \\\n",
        "     , COUNT(CASE WHEN img_use = 1 THEN img_label END) AS 'Training Images'\\\n",
        "     , COUNT(CASE WHEN img_use = 2 THEN img_label END) AS 'Testing Images'\\\n",
        "     FROM tf_images INNER JOIN categories ON class_idx = img_label \\\n",
        "     GROUP BY class_name\"\n",
        "df = pd.read_sql(sql,conn)\n",
        "display (df)\n",
        "ax = df.plot.bar(rot=0)"
      ],
      "metadata": {
        "id": "c9FJ83DqhfLw"
      },
      "execution_count": null,
      "outputs": []
    },
    {
      "cell_type": "code",
      "source": [
        "sql=\"SELECT img_blob \\\n",
        "     FROM tf_images INNER JOIN img_use ON use_id = img_use \\\n",
        "     WHERE use_name = 'Testing' and img_idx = 0\"\n",
        "\n",
        "cur.execute(sql)\n",
        "data = cur.fetchone()\n",
        "file_like=io.BytesIO(data[0])\n",
        "img = mpimg.imread(file_like)\n",
        "plt.imshow(img)"
      ],
      "metadata": {
        "id": "v9YL-bochgu5"
      },
      "execution_count": null,
      "outputs": []
    }
  ]
}